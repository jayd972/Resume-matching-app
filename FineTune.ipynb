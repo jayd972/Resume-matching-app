{
 "cells": [
  {
   "cell_type": "code",
   "execution_count": 1,
   "id": "e2b772bc-afc4-43b9-a033-be6ad460f9b9",
   "metadata": {},
   "outputs": [],
   "source": [
    "# !pip install huggingface_hub\n",
    "# !pip install -U \"accelerate>=0.26.0\"\n",
    "# !pip install transformers[torch]\n",
    "# !pip install -q sentence-transformers torch pandas tqdm"
   ]
  },
  {
   "cell_type": "code",
   "execution_count": 2,
   "id": "e6a561a5-f926-4161-b3bc-e6bb19ffecfc",
   "metadata": {},
   "outputs": [],
   "source": [
    "# from huggingface_hub import login\n",
    "\n",
    "# login(\"hf_Your_key\")"
   ]
  },
  {
   "cell_type": "code",
   "execution_count": 3,
   "id": "da290b19-6456-4882-97b3-e0ba4480b238",
   "metadata": {},
   "outputs": [],
   "source": [
    "# from huggingface_hub import snapshot_download\n",
    "\n",
    "# # Choose where to save the files. Change if you like.\n",
    "# local_dir = r\"C:\\Users\\Jay\\Desktop\\GenAI\\Candidate_recommandation\\data\"\n",
    "\n",
    "# snapshot_download(\n",
    "#     repo_id=\"netsol/resume-score-details\",\n",
    "#     repo_type=\"dataset\",\n",
    "#     local_dir=local_dir,\n",
    "#     local_dir_use_symlinks=False,\n",
    "#     # allow_patterns=[\"data/*.json\"],  # Only get the data/*.json files!\n",
    "# )\n",
    "\n",
    "# print(\"✅ Download complete!\")\n"
   ]
  },
  {
   "cell_type": "code",
   "execution_count": 4,
   "id": "630db803-38bc-47e1-895a-10d9d7834189",
   "metadata": {},
   "outputs": [
    {
     "name": "stderr",
     "output_type": "stream",
     "text": [
      "C:\\Users\\Jay\\AppData\\Local\\Programs\\Python\\Python312\\Lib\\site-packages\\tqdm\\auto.py:21: TqdmWarning: IProgress not found. Please update jupyter and ipywidgets. See https://ipywidgets.readthedocs.io/en/stable/user_install.html\n",
      "  from .autonotebook import tqdm as notebook_tqdm\n"
     ]
    }
   ],
   "source": [
    "import os\n",
    "import glob\n",
    "import json\n",
    "import pandas as pd\n",
    "import random\n",
    "from tqdm import tqdm\n",
    "from sentence_transformers import SentenceTransformer, InputExample, losses\n",
    "from torch.utils.data import DataLoader"
   ]
  },
  {
   "cell_type": "code",
   "execution_count": 5,
   "id": "35fb805e-3d5b-4327-bcce-fa187ffae08d",
   "metadata": {},
   "outputs": [
    {
     "name": "stderr",
     "output_type": "stream",
     "text": [
      "100%|████████████████████████████████████████████████████████████████████████████| 1031/1031 [00:00<00:00, 1296.13it/s]"
     ]
    },
    {
     "name": "stdout",
     "output_type": "stream",
     "text": [
      "Found 741 matched and 39 mismatched samples.\n"
     ]
    },
    {
     "name": "stderr",
     "output_type": "stream",
     "text": [
      "\n"
     ]
    }
   ],
   "source": [
    "# Replace with the path where your dataset JSONs are extracted\n",
    "DATA_PATH = r'C:\\Users\\Jay\\Desktop\\GenAI\\Candidate_recommandation\\data'\n",
    "\n",
    "matched, mismatched = [], []\n",
    "\n",
    "for path in tqdm(glob.glob(os.path.join(DATA_PATH, '*.json'))):\n",
    "    with open(path, 'r', encoding='utf-8') as f:\n",
    "        entry = json.load(f)\n",
    "    jd = entry[\"input\"].get(\"job_description\", \"\")\n",
    "    resume = entry[\"input\"].get(\"resume\", \"\")\n",
    "    macro_scores = entry.get(\"output\", {}).get(\"scores\", {}).get(\"aggregated_scores\", {}).get(\"macro_scores\", None)\n",
    "\n",
    "    # Heuristic: macro_scores >= 3.5 means \"matched\", <= 2.0 means \"mismatched\"\n",
    "    if jd and resume and macro_scores is not None:\n",
    "        if macro_scores >= 3.5:\n",
    "            matched.append({'jd': jd, 'resume': resume, 'label': 1})\n",
    "        elif macro_scores <= 2.0:\n",
    "            mismatched.append({'jd': jd, 'resume': resume, 'label': 0})\n",
    "\n",
    "print(f\"Found {len(matched)} matched and {len(mismatched)} mismatched samples.\")"
   ]
  },
  {
   "cell_type": "code",
   "execution_count": 6,
   "id": "a92ad03b-fa11-43e3-8b51-1cb0dfe2e5a6",
   "metadata": {},
   "outputs": [
    {
     "name": "stdout",
     "output_type": "stream",
     "text": [
      "label\n",
      "1    200\n",
      "0     39\n",
      "Name: count, dtype: int64\n"
     ]
    },
    {
     "data": {
      "text/html": [
       "<div>\n",
       "<style scoped>\n",
       "    .dataframe tbody tr th:only-of-type {\n",
       "        vertical-align: middle;\n",
       "    }\n",
       "\n",
       "    .dataframe tbody tr th {\n",
       "        vertical-align: top;\n",
       "    }\n",
       "\n",
       "    .dataframe thead th {\n",
       "        text-align: right;\n",
       "    }\n",
       "</style>\n",
       "<table border=\"1\" class=\"dataframe\">\n",
       "  <thead>\n",
       "    <tr style=\"text-align: right;\">\n",
       "      <th></th>\n",
       "      <th>jd</th>\n",
       "      <th>resume</th>\n",
       "      <th>label</th>\n",
       "    </tr>\n",
       "  </thead>\n",
       "  <tbody>\n",
       "    <tr>\n",
       "      <th>0</th>\n",
       "      <td>### Business Development Manager\\n\\n**Fictiona...</td>\n",
       "      <td>Muhammad Bilal Amin  \\n+92-323-321-5863 | mbil...</td>\n",
       "      <td>1</td>\n",
       "    </tr>\n",
       "    <tr>\n",
       "      <th>1</th>\n",
       "      <td>**Business Development Manager**  \\nJoin [Fict...</td>\n",
       "      <td>Fresh Electrical Engineering graduate with str...</td>\n",
       "      <td>0</td>\n",
       "    </tr>\n",
       "    <tr>\n",
       "      <th>2</th>\n",
       "      <td>Join **TechVentures Inc.** as a **Senior Proje...</td>\n",
       "      <td>\\nMuhammad Tayyab  Aftab  \\n  \\nPROFESSIONAL ...</td>\n",
       "      <td>1</td>\n",
       "    </tr>\n",
       "    <tr>\n",
       "      <th>3</th>\n",
       "      <td>**Title: Business Development Manager**  \\n\\n*...</td>\n",
       "      <td>SULTAN MOUZAM\\nCHUGHTAI \\nB2B|B2C SALES &amp; MARK...</td>\n",
       "      <td>1</td>\n",
       "    </tr>\n",
       "    <tr>\n",
       "      <th>4</th>\n",
       "      <td>### Business Development Manager\\n\\nJoin **Inn...</td>\n",
       "      <td>Addres\\nJohar Town, Lahore\\nPhone\\n+92 334 705...</td>\n",
       "      <td>1</td>\n",
       "    </tr>\n",
       "  </tbody>\n",
       "</table>\n",
       "</div>"
      ],
      "text/plain": [
       "                                                  jd  \\\n",
       "0  ### Business Development Manager\\n\\n**Fictiona...   \n",
       "1  **Business Development Manager**  \\nJoin [Fict...   \n",
       "2  Join **TechVentures Inc.** as a **Senior Proje...   \n",
       "3  **Title: Business Development Manager**  \\n\\n*...   \n",
       "4  ### Business Development Manager\\n\\nJoin **Inn...   \n",
       "\n",
       "                                              resume  label  \n",
       "0  Muhammad Bilal Amin  \\n+92-323-321-5863 | mbil...      1  \n",
       "1  Fresh Electrical Engineering graduate with str...      0  \n",
       "2   \\nMuhammad Tayyab  Aftab  \\n  \\nPROFESSIONAL ...      1  \n",
       "3  SULTAN MOUZAM\\nCHUGHTAI \\nB2B|B2C SALES & MARK...      1  \n",
       "4  Addres\\nJohar Town, Lahore\\nPhone\\n+92 334 705...      1  "
      ]
     },
     "execution_count": 6,
     "metadata": {},
     "output_type": "execute_result"
    }
   ],
   "source": [
    "# Balance and shuffle\n",
    "random.shuffle(matched)\n",
    "random.shuffle(mismatched)\n",
    "balanced_data = matched[:200] + mismatched[:200]\n",
    "random.shuffle(balanced_data)\n",
    "df_balanced = pd.DataFrame(balanced_data)\n",
    "print(df_balanced['label'].value_counts())\n",
    "df_balanced.head()"
   ]
  },
  {
   "cell_type": "code",
   "execution_count": 7,
   "id": "2ae1e2b2-3cce-4d4c-94ab-65f813a7c620",
   "metadata": {},
   "outputs": [
    {
     "name": "stdout",
     "output_type": "stream",
     "text": [
      "Total training pairs: 239\n"
     ]
    }
   ],
   "source": [
    "# Prepare SBERT Training Examples\n",
    "train_examples = [\n",
    "    InputExample(texts=[row.jd, row.resume], label=float(row.label))\n",
    "    for _, row in df_balanced.iterrows()\n",
    "]\n",
    "print(f\"Total training pairs: {len(train_examples)}\")\n",
    "\n",
    "train_dataloader = DataLoader(train_examples, shuffle=True, batch_size=16)"
   ]
  },
  {
   "cell_type": "code",
   "execution_count": 8,
   "id": "5541becb-dc2c-47dc-a3fb-a2a9fb4cb8fd",
   "metadata": {},
   "outputs": [],
   "source": [
    "# Load Base Model\n",
    "base_model_name = 'all-MiniLM-L6-v2'  # You can try others from SBERT docs\n",
    "model = SentenceTransformer(base_model_name)"
   ]
  },
  {
   "cell_type": "code",
   "execution_count": 9,
   "id": "6838c6e4-64f2-4565-881d-cd7a4d03ee26",
   "metadata": {},
   "outputs": [
    {
     "name": "stderr",
     "output_type": "stream",
     "text": [
      "C:\\Users\\Jay\\AppData\\Local\\Programs\\Python\\Python312\\Lib\\site-packages\\torch\\utils\\data\\dataloader.py:665: UserWarning: 'pin_memory' argument is set as true but no accelerator is found, then device pinned memory won't be used.\n",
      "  warnings.warn(warn_msg)\n"
     ]
    },
    {
     "data": {
      "text/html": [
       "\n",
       "    <div>\n",
       "      \n",
       "      <progress value='45' max='45' style='width:300px; height:20px; vertical-align: middle;'></progress>\n",
       "      [45/45 06:46, Epoch 3/3]\n",
       "    </div>\n",
       "    <table border=\"1\" class=\"dataframe\">\n",
       "  <thead>\n",
       " <tr style=\"text-align: left;\">\n",
       "      <th>Step</th>\n",
       "      <th>Training Loss</th>\n",
       "    </tr>\n",
       "  </thead>\n",
       "  <tbody>\n",
       "  </tbody>\n",
       "</table><p>"
      ],
      "text/plain": [
       "<IPython.core.display.HTML object>"
      ]
     },
     "metadata": {},
     "output_type": "display_data"
    }
   ],
   "source": [
    "# Fine-Tune the Model\n",
    "\n",
    "train_loss = losses.CosineSimilarityLoss(model=model)\n",
    "\n",
    "epochs = 3  # More epochs if you want (2-4 typical for this size)\n",
    "def loss_printer(score, epoch, step, total_steps):\n",
    "    print(f\"Epoch {epoch} Step {step}/{total_steps} | Training Loss: {score:.4f}\", flush=True)\n",
    "\n",
    "model.fit(\n",
    "    train_objectives=[(train_dataloader, train_loss)],\n",
    "    epochs=epochs,\n",
    "    warmup_steps=50,\n",
    "    show_progress_bar=True,\n",
    "    callback=loss_printer\n",
    ")"
   ]
  },
  {
   "cell_type": "code",
   "execution_count": 12,
   "id": "279e0d44-e559-47ff-b97c-1d73cc649de3",
   "metadata": {},
   "outputs": [
    {
     "name": "stdout",
     "output_type": "stream",
     "text": [
      "Model saved to ./fine-tuned-sbert-resume-matcher-binary\n"
     ]
    }
   ],
   "source": [
    "# Save the Fine-Tuned Model\n",
    "\n",
    "save_path = './fine-tuned-sbert-resume-matcher-binary'\n",
    "model.save(save_path)\n",
    "print(f\"Model saved to {save_path}\")\n",
    "\n"
   ]
  },
  {
   "cell_type": "code",
   "execution_count": 13,
   "id": "cbd34fc2-c715-4a2c-96e0-aeb3410d937d",
   "metadata": {},
   "outputs": [
    {
     "name": "stdout",
     "output_type": "stream",
     "text": [
      "Similarity (Good Pair): 0.8546\n",
      "Similarity (Bad Pair): 0.3498\n"
     ]
    }
   ],
   "source": [
    "# Quick Test: Check Your Model\n",
    "\n",
    "model = SentenceTransformer(save_path)\n",
    "# Try a relevant pair and an irrelevant pair\n",
    "jd_ex = df_balanced[df_balanced['label']==1].iloc[0]\n",
    "resume_ex_good = jd_ex.resume\n",
    "jd_text = jd_ex.jd\n",
    "# Pick a mismatched resume\n",
    "resume_ex_bad = df_balanced[df_balanced['label']==0].iloc[0].resume\n",
    "\n",
    "emb_jd = model.encode([jd_text])[0]\n",
    "emb_good = model.encode([resume_ex_good])[0]\n",
    "emb_bad = model.encode([resume_ex_bad])[0]\n",
    "\n",
    "from numpy import dot\n",
    "from numpy.linalg import norm\n",
    "sim_good = dot(emb_jd, emb_good) / (norm(emb_jd) * norm(emb_good))\n",
    "sim_bad = dot(emb_jd, emb_bad) / (norm(emb_jd) * norm(emb_bad))\n",
    "print(f\"Similarity (Good Pair): {sim_good:.4f}\")\n",
    "print(f\"Similarity (Bad Pair): {sim_bad:.4f}\")"
   ]
  },
  {
   "cell_type": "code",
   "execution_count": null,
   "id": "798a7b26-9d53-4516-9b6f-44bda2287e68",
   "metadata": {},
   "outputs": [],
   "source": []
  }
 ],
 "metadata": {
  "kernelspec": {
   "display_name": "Python 3 (ipykernel)",
   "language": "python",
   "name": "python3"
  },
  "language_info": {
   "codemirror_mode": {
    "name": "ipython",
    "version": 3
   },
   "file_extension": ".py",
   "mimetype": "text/x-python",
   "name": "python",
   "nbconvert_exporter": "python",
   "pygments_lexer": "ipython3",
   "version": "3.12.5"
  }
 },
 "nbformat": 4,
 "nbformat_minor": 5
}
